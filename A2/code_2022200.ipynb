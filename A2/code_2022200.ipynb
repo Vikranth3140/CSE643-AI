{
 "cells": [
  {
   "cell_type": "markdown",
   "metadata": {},
   "source": [
    "# AI Assignment 3"
   ]
  },
  {
   "cell_type": "code",
   "execution_count": 1,
   "metadata": {},
   "outputs": [],
   "source": [
    "# Boilerplate for AI Assignment — Knowledge Representation, Reasoning and Planning\n",
    "# CSE 643\n",
    "\n",
    "# Import necessary libraries\n",
    "import pandas as pd\n",
    "import numpy as np\n",
    "import matplotlib.pyplot as plt\n",
    "import plotly.graph_objects as go\n",
    "import networkx as nx\n",
    "from pyDatalog import pyDatalog\n",
    "from collections import defaultdict, deque\n",
    "\n",
    "## ****IMPORTANT****\n",
    "## Don't import or use any other libraries other than defined above\n",
    "## Otherwise your code file will be rejected in the automated testing\n",
    "\n",
    "# ------------------ Global Variables ------------------\n",
    "route_to_stops = defaultdict(list)  # Mapping of route IDs to lists of stops\n",
    "trip_to_route = {}                   # Mapping of trip IDs to route IDs\n",
    "stop_trip_count = defaultdict(int)    # Count of trips for each stop\n",
    "fare_rules = {}                      # Mapping of route IDs to fare information\n",
    "merged_fare_df = None                # To be initialized in create_kb()\n",
    "\n",
    "# Load static data from GTFS (General Transit Feed Specification) files\n",
    "df_stops = pd.read_csv('GTFS/stops.txt')\n",
    "df_routes = pd.read_csv('GTFS/routes.txt')\n",
    "df_stop_times = pd.read_csv('GTFS/stop_times.txt')\n",
    "df_fare_attributes = pd.read_csv('GTFS/fare_attributes.txt')\n",
    "df_trips = pd.read_csv('GTFS/trips.txt')\n",
    "df_fare_rules = pd.read_csv('GTFS/fare_rules.txt')\n",
    "\n",
    "# ---------------- DEBUG -----------------\n",
    "# print(df_stops.columns.values.tolist())\n",
    "# print(df_routes)\n",
    "# print(df_stop_times)\n",
    "# print(df_fare_attributes)\n",
    "# print(df_trips)\n",
    "# print(df_fare_rules)\n"
   ]
  },
  {
   "cell_type": "markdown",
   "metadata": {},
   "source": [
    "## TESTING"
   ]
  },
  {
   "cell_type": "code",
   "execution_count": 2,
   "metadata": {},
   "outputs": [],
   "source": [
    "test_inputs = {\n",
    "    \"direct_route\": [\n",
    "        ((2573, 1177), [10001, 1117, 1407]),  # Input -> Expected output\n",
    "        ((2001, 2005), [10001, 1151])\n",
    "    ],\n",
    "\n",
    "    \"forward_chaining\": [\n",
    "        ((22540, 2573, 4686, 1), [(10153, 4686, 1407)]),\n",
    "        ((951, 340, 300, 1), [(1211, 300, 712), (10453, 300, 712), (387, 300, 712), (49, 300, 712), \n",
    "                              (1571, 300, 712), (37, 300, 712), (1038, 300, 712), (10433, 300, 712), \n",
    "                              (121, 300, 712)])\n",
    "    ],\n",
    "    \"backward_chaining\": [\n",
    "        ((2573, 22540, 4686, 1), [(1407, 4686, 10153)]),\n",
    "        ((340, 951, 300, 1), [(712, 300, 121), (712, 300, 1211), (712, 300, 37), (712, 300, 387),\n",
    "                              (712, 300, 49), (712, 300, 10453), (712, 300, 1038), (712, 300, 10433),\n",
    "                              (712, 300, 1571)])\n",
    "    ],\n",
    "    \"pddl_planning\": [\n",
    "        ((22540, 2573, 4686, 1), [(10153, 4686, 1407)]),\n",
    "        ((951, 340, 300, 1), [(1211, 300, 712), (10453, 300, 712), (387, 300, 712), (49, 300, 712), \n",
    "                        (1571, 300, 712), (37, 300, 712), (1038, 300, 712), (10433, 300, 712), \n",
    "                        (121, 300, 712)])\n",
    "    ],\n",
    "    \"bfs_route\": [\n",
    "        ((22540, 2573, 10, 3), [(10153, 4686), (1407, 2573)]),\n",
    "        ((4012, 4013, 10, 3), [(10004, 4013)])\n",
    "    ],\n",
    "\n",
    "    ### NOTE: The below values are just dummy values, the actual values are might differ! \n",
    "    \"busiest_routes\": [\n",
    "        [(123, 456), (789, 234), (567, 235), (3456, 897), (345, 345)]\n",
    "    ],\n",
    "    \"most_frequent_stops\": [\n",
    "        [(456, 456), (234, 765), (234, 765), (234, 657765), (3252, 35634)]\n",
    "    ],\n",
    "    \"busiest_stops\": [\n",
    "        [(432243, 14543), (454235, 2452), (2452, 2454), (78568, 24352), (42352, 24532)]\n",
    "    ],\n",
    "    \"stops_with_one_direct_route\": [\n",
    "        [((24527, 676), 542), ((243535, 8768), 2456), ((43262, 564), 65437),\n",
    "         ((256, 56), 245), ((266, 256), 78)]\n",
    "    ]\n",
    "}\n",
    "\n",
    "def check_output(expected, actual):\n",
    "    \"\"\"Function to compare expected and actual outputs.\"\"\"\n",
    "    return set(expected) == set(actual)"
   ]
  },
  {
   "cell_type": "code",
   "execution_count": 3,
   "metadata": {},
   "outputs": [
    {
     "name": "stdout",
     "output_type": "stream",
     "text": [
      "Trip to Route ID Mapping done\n",
      "Route ID to stop list done\n",
      "Sorting of stop by sequence done\n",
      "Fare rules created\n",
      "Knowledge base created successfully.\n"
     ]
    }
   ],
   "source": [
    "from pprint import pprint\n",
    "\n",
    "# ------------------ Function Definitions ------------------\n",
    "\n",
    "# Function to create knowledge base from the loaded data\n",
    "def create_kb():\n",
    "    \"\"\"\n",
    "    Create knowledge base by populating global variables with information from loaded datasets.\n",
    "    It establishes the relationships between routes, trips, stops, and fare rules.\n",
    "    \n",
    "    Returns:\n",
    "        None\n",
    "    \"\"\"\n",
    "    global route_to_stops, trip_to_route, stop_trip_count, fare_rules, merged_fare_df\n",
    "\n",
    "    # Create trip_id to route_id mapping\n",
    "    for _, row in df_trips.iterrows():\n",
    "        trip_id = row['trip_id']\n",
    "        route_id = row['route_id']\n",
    "        trip_to_route[trip_id] = route_id\n",
    "    \n",
    "    print(\"Trip to Route ID Mapping done\")\n",
    "\n",
    "    # Map route_id to a list of stops in order of their sequence\n",
    "    for _, row in df_stop_times.iterrows():\n",
    "        trip_id = row['trip_id']\n",
    "        stop_id = row['stop_id']\n",
    "        stop_sequence = row['stop_sequence']\n",
    "        \n",
    "        # Find the route_id from the trip_to_route mapping\n",
    "        route_id = trip_to_route.get(trip_id)\n",
    "        \n",
    "        if route_id is not None:\n",
    "            route_to_stops[route_id].append((stop_sequence, stop_id))\n",
    "            stop_trip_count[stop_id] += 1\n",
    "\n",
    "    print(\"Route ID to stop list done\")\n",
    "\n",
    "    # Sort stops by sequence within each route to maintain the correct order\n",
    "    for route_id in route_to_stops:\n",
    "        route_to_stops[route_id] = [stop_id for _, stop_id in sorted(route_to_stops[route_id])]\n",
    "\n",
    "    print(\"Sorting of stop by sequence done\")\n",
    "\n",
    "    # Create fare rules for routes\n",
    "    for _, row in df_fare_rules.iterrows():\n",
    "        route_id = row['route_id']\n",
    "        fare_id = row['fare_id']\n",
    "        fare_rules[route_id] = fare_id\n",
    "\n",
    "    print(\"Fare rules created\")\n",
    "\n",
    "    # Merge fare rules and attributes into a single DataFrame\n",
    "    merged_fare_df = pd.merge(df_fare_rules, df_fare_attributes, on='fare_id', how='left')\n",
    "\n",
    "    # ---------------- DEBUG -------------------\n",
    "    # print(route_to_stops)\n",
    "    # print(trip_to_route)\n",
    "    # print(stop_trip_count)\n",
    "    # print(fare_rules)\n",
    "    # print(merged_fare_df)\n",
    "\n",
    "    print(\"Knowledge base created successfully.\")\n",
    "\n",
    "create_kb()"
   ]
  },
  {
   "cell_type": "code",
   "execution_count": 4,
   "metadata": {},
   "outputs": [
    {
     "name": "stdout",
     "output_type": "stream",
     "text": [
      "[(5721, 318), (5722, 318), (674, 313), (593, 311), (5254, 272)]\n"
     ]
    }
   ],
   "source": [
    "# Function to find the top 5 busiest routes based on the number of trips\n",
    "def get_busiest_routes():\n",
    "    \"\"\"\n",
    "    Identify the top 5 busiest routes based on trip counts.\n",
    "\n",
    "    Returns:\n",
    "        list: A list of tuples, where each tuple contains:\n",
    "              - route_id (str): The ID of the route.\n",
    "              - trip_count (int): The number of trips for that route.\n",
    "    \"\"\"\n",
    "    \n",
    "    route_trip_count = defaultdict(int)\n",
    "    \n",
    "    # Count trips for each route using trip_to_route mapping\n",
    "    for trip_id, route_id in trip_to_route.items():\n",
    "        route_trip_count[route_id] += 1\n",
    "    \n",
    "    # Sort routes by trip count in descending order and return the top 5\n",
    "    top_routes = sorted(route_trip_count.items(), key=lambda x: x[1], reverse=True)[:5]\n",
    "    return top_routes\n",
    "\n",
    "print(get_busiest_routes())"
   ]
  },
  {
   "cell_type": "code",
   "execution_count": 5,
   "metadata": {},
   "outputs": [
    {
     "name": "stdout",
     "output_type": "stream",
     "text": [
      "[(10225, 4115), (10221, 4049), (149, 3998), (488, 3996), (233, 3787)]\n"
     ]
    }
   ],
   "source": [
    "# Function to find the top 5 stops with the most frequent trips\n",
    "def get_most_frequent_stops() -> list[tuple[int, int]]:\n",
    "    \"\"\"\n",
    "    Identify the top 5 stops with the highest number of trips.\n",
    "\n",
    "    Returns:\n",
    "        list: A list of tuples, where each tuple contains:\n",
    "              - stop_id (int): The ID of the stop.\n",
    "              - trip_count (int): The number of trips for that stop.\n",
    "    \"\"\"\n",
    "\n",
    "    _top5trips = sorted(stop_trip_count.items(), key=lambda x: x[1], reverse=True)[:5]\n",
    "    return _top5trips\n",
    "\n",
    "print(get_most_frequent_stops())"
   ]
  },
  {
   "cell_type": "code",
   "execution_count": 6,
   "metadata": {},
   "outputs": [
    {
     "name": "stdout",
     "output_type": "stream",
     "text": [
      "[(488, 102), (10225, 101), (149, 99), (233, 95), (10221, 86)]\n"
     ]
    }
   ],
   "source": [
    "# Function to find the top 5 busiest stops based on the number of routes passing through them\n",
    "def get_top_5_busiest_stops() -> list[tuple]:\n",
    "    \"\"\"\n",
    "    Identify the top 5 stops with the highest number of different routes.\n",
    "\n",
    "    Returns:\n",
    "        list: A list of tuples, where each tuple contains:\n",
    "              - stop_id (str): The ID of the stop.\n",
    "              - route_count (int): The number of routes passing through that stop.\n",
    "    \"\"\"\n",
    "    # Dictionary to map each stop to a set of routes passing through it\n",
    "    stop_routes = defaultdict(set)\n",
    "    \n",
    "    # Populate stop_routes by iterating over route_to_stops\n",
    "    for route_id, stops in route_to_stops.items():\n",
    "        for stop_id in stops:\n",
    "            stop_routes[stop_id].add(route_id)\n",
    "    \n",
    "    # Calculate the number of routes for each stop and sort in descending order\n",
    "    _top5stops = sorted(\n",
    "        ((stop_id, len(routes)) for stop_id, routes in stop_routes.items()),\n",
    "        key=lambda x: x[1],\n",
    "        reverse=True\n",
    "    )[:5]\n",
    "    \n",
    "    return _top5stops\n",
    "\n",
    "print(get_top_5_busiest_stops())"
   ]
  },
  {
   "cell_type": "code",
   "execution_count": 7,
   "metadata": {},
   "outputs": [
    {
     "name": "stdout",
     "output_type": "stream",
     "text": [
      "[((233, 148), 1433, 6440), ((10225, 11946), 5436, 6230), ((11044, 10120), 5916, 5732), ((11045, 10120), 5610, 5608), ((10225, 11160), 5814, 5492)]\n"
     ]
    }
   ],
   "source": [
    "# Function to identify the top 5 pairs of stops with only one direct route between them\n",
    "def get_stops_with_one_direct_route():\n",
    "    \"\"\"\n",
    "    Identify the top 5 pairs of consecutive stops (start and end) connected by exactly one direct route. \n",
    "    The pairs are sorted by the combined frequency of trips passing through both stops.\n",
    "\n",
    "    Returns:\n",
    "        list: A list of tuples, where each tuple contains:\n",
    "              - pair (tuple): A tuple with two stop IDs (stop_1, stop_2).\n",
    "              - route_id (str): The ID of the route connecting the two stops.\n",
    "              - combined_trip_count (int): The combined frequency of trips through both stops.\n",
    "    \"\"\"\n",
    "    # Dictionary to store each pair of stops and the route connecting them\n",
    "    stop_pairs = defaultdict(list)\n",
    "    \n",
    "    # Step 1: Populate stop_pairs with consecutive stops for each route\n",
    "    for route_id, stops in route_to_stops.items():\n",
    "        for i in range(len(stops) - 1):\n",
    "            # Create a tuple of consecutive stop pairs\n",
    "            stop_pair = (stops[i], stops[i + 1])\n",
    "            stop_pairs[stop_pair].append(route_id)\n",
    "\n",
    "    # Step 2: Filter pairs that are connected by exactly one route\n",
    "    one_route_pairs = {\n",
    "        pair: routes[0] for pair, routes in stop_pairs.items() if len(routes) == 1\n",
    "    }\n",
    "    \n",
    "    # Step 3: Calculate the combined trip count for each pair of stops\n",
    "    # (assuming stop_trip_count provides the frequency of trips at each stop)\n",
    "    combined_trip_counts = []\n",
    "    for pair, route_id in one_route_pairs.items():\n",
    "        stop_1, stop_2 = pair\n",
    "        combined_count = stop_trip_count[stop_1] + stop_trip_count[stop_2]\n",
    "        combined_trip_counts.append((pair, route_id, combined_count))\n",
    "\n",
    "    # Step 4: Sort by combined trip count in descending order and select the top 5 pairs\n",
    "    _top5pairs = sorted(combined_trip_counts, key=lambda x: x[2], reverse=True)[:5]\n",
    "\n",
    "    return _top5pairs\n",
    "print(get_stops_with_one_direct_route())"
   ]
  },
  {
   "cell_type": "code",
   "execution_count": 8,
   "metadata": {},
   "outputs": [
    {
     "name": "stdout",
     "output_type": "stream",
     "text": [
      "[10001, 1151]\n"
     ]
    }
   ],
   "source": [
    "# Brute-Force Approach for finding direct routes\n",
    "def direct_route_brute_force(start_stop, end_stop):\n",
    "    \"\"\"\n",
    "    Find all valid routes between two stops using a brute-force method.\n",
    "\n",
    "    Args:\n",
    "        start_stop (int): The ID of the starting stop.\n",
    "        end_stop (int): The ID of the ending stop.\n",
    "\n",
    "    Returns:\n",
    "        list: A list of route IDs (int) that connect the two stops directly.\n",
    "    \"\"\"\n",
    "    \n",
    "    _totalRoutes = list()\n",
    "\n",
    "    for _route, _stops in route_to_stops.items():\n",
    "        if start_stop in _stops and end_stop in _stops:\n",
    "            _totalRoutes.append(_route)\n",
    "        \n",
    "    return _totalRoutes\n",
    "\n",
    "print(direct_route_brute_force(2001, 2005))"
   ]
  },
  {
   "cell_type": "code",
   "execution_count": 9,
   "metadata": {},
   "outputs": [
    {
     "name": "stdout",
     "output_type": "stream",
     "text": [
      "Terms initialized: DirectRoute, RouteHasStop, OptimalRoute\n",
      "Rule for DirectRoute defined.\n",
      "Started adding facts\n",
      "Finished adding facts\n"
     ]
    }
   ],
   "source": [
    "# Initialize Datalog predicates for reasoning\n",
    "pyDatalog.create_terms('RouteHasStop, DirectRoute, OptimalRoute, X, Y, Z, R, R1, R2')  \n",
    "def initialize_datalog():\n",
    "    \"\"\"\n",
    "    Initialize Datalog terms and predicates for reasoning about routes and stops.\n",
    "\n",
    "    Returns:\n",
    "        None\n",
    "    \"\"\"\n",
    "    pyDatalog.clear()  # Clear previous terms\n",
    "    print(\"Terms initialized: DirectRoute, RouteHasStop, OptimalRoute\")  # Confirmation print\n",
    "\n",
    "    # Define Datalog predicates\n",
    "    DirectRoute(R, X, Y) <= RouteHasStop(R, X) & RouteHasStop(R, Y)  \n",
    "    print(\"Rule for DirectRoute defined.\")\n",
    "\n",
    "    # create_kb()  # Populate the knowledge base\n",
    "    add_route_data(route_to_stops)  # Add route data to Datalog\n",
    "    \n",
    "# Adding route data to Datalog\n",
    "def add_route_data(route_to_stops):\n",
    "    \"\"\"\n",
    "    Add the route data to Datalog for reasoning.\n",
    "\n",
    "    Args:\n",
    "        route_to_stops (dict): A dictionary mapping route IDs to lists of stops.\n",
    "\n",
    "    Returns:\n",
    "        None\n",
    "    \"\"\"\n",
    "\n",
    "    print(\"Started adding facts\")\n",
    "    for route_id, stops in route_to_stops.items():\n",
    "        for stop_id in stops:\n",
    "            +RouteHasStop(route_id, stop_id)\n",
    "    print(\"Finished adding facts\")\n",
    "\n",
    "initialize_datalog()"
   ]
  },
  {
   "cell_type": "code",
   "execution_count": 10,
   "metadata": {},
   "outputs": [
    {
     "name": "stdout",
     "output_type": "stream",
     "text": [
      "[1117, 1407, 10001]\n"
     ]
    }
   ],
   "source": [
    "# Function to query direct routes between two stops\n",
    "def query_direct_routes(start, end):\n",
    "    \"\"\"\n",
    "    Query for direct routes between two stops.\n",
    "\n",
    "    Args:\n",
    "        start (int): The ID of the starting stop.\n",
    "        end (int): The ID of the ending stop.\n",
    "\n",
    "    Returns:\n",
    "        list: A sorted list of route IDs (str) connecting the two stops.\n",
    "    \"\"\"\n",
    "\n",
    "    result = DirectRoute(R, start, end)\n",
    "    return sorted(set([route_id[0] for route_id in result]))\n",
    "\n",
    "print(query_direct_routes(2573, 1177))"
   ]
  },
  {
   "cell_type": "markdown",
   "metadata": {},
   "source": [
    "### Testing query_direct_routes"
   ]
  },
  {
   "cell_type": "code",
   "execution_count": 11,
   "metadata": {},
   "outputs": [
    {
     "name": "stdout",
     "output_type": "stream",
     "text": [
      "Test query_direct_routes (2573, 1177):  Pass\n",
      "Test query_direct_routes (2001, 2005):  Pass\n",
      "None\n"
     ]
    }
   ],
   "source": [
    "def test_query_direct_routes():\n",
    "    for (start_stop, end_stop), expected_output in test_inputs[\"direct_route\"]:\n",
    "        actual_output = query_direct_routes(start_stop, end_stop)\n",
    "        print(f\"Test query_direct_routes ({start_stop}, {end_stop}): \", \n",
    "              \"Pass\" if check_output(expected_output, actual_output) else f\"Fail (Expected: {expected_output}, Got: {actual_output})\")\n",
    "\n",
    "print(test_query_direct_routes())"
   ]
  },
  {
   "cell_type": "code",
   "execution_count": 12,
   "metadata": {},
   "outputs": [
    {
     "data": {
      "text/plain": [
       "[(121, 300, 712),\n",
       " (1038, 300, 712),\n",
       " (387, 300, 712),\n",
       " (10453, 300, 712),\n",
       " (49, 300, 712),\n",
       " (1211, 300, 712),\n",
       " (1571, 300, 712),\n",
       " (37, 300, 712),\n",
       " (10433, 300, 712)]"
      ]
     },
     "execution_count": 12,
     "metadata": {},
     "output_type": "execute_result"
    }
   ],
   "source": [
    "# Forward chaining for optimal route planning\n",
    "def forward_chaining(start_stop_id: int,\n",
    "                     end_stop_id: int,\n",
    "                     stop_id_to_include: int,\n",
    "                     max_transfers: int = 1) -> list[tuple[int, int]]:\n",
    "    \"\"\"\n",
    "    Perform forward chaining to find optimal routes considering transfers.\n",
    "\n",
    "    Args:\n",
    "        start_stop_id (int): The starting stop ID.\n",
    "        end_stop_id (int): The ending stop ID.\n",
    "        stop_id_to_include (int): The stop ID where a transfer occurs.\n",
    "        max_transfers (int): The maximum number of transfers allowed.\n",
    "\n",
    "    Returns:\n",
    "        list: A list of unique paths (list of tuples) that satisfy the criteria, where each tuple contains:\n",
    "              - route_id (int): The ID of the route.\n",
    "              - stop_id (int): The ID of the stop.\n",
    "    \"\"\" \n",
    "\n",
    "    OptimalRoute(X, Y, Z) <= (DirectRoute(X, start_stop_id, Z) & DirectRoute(Y, Z, end_stop_id))\n",
    "\n",
    "    results = OptimalRoute(X, Y, stop_id_to_include)\n",
    "\n",
    "    paths = list()\n",
    "    paths.append((results[0][0], stop_id_to_include, results[0][1]))\n",
    "    for res in range(1, len(results)):\n",
    "        if results[res][0] == results[res - 1][1]:\n",
    "            continue\n",
    "        else:\n",
    "            paths.append((results[res][0], stop_id_to_include, results[res][1]))\n",
    "\n",
    "    return paths if paths else []\n",
    "    \n",
    "\n",
    "forward_chaining(951, 340, 300, 1)\n"
   ]
  },
  {
   "cell_type": "code",
   "execution_count": 13,
   "metadata": {},
   "outputs": [
    {
     "name": "stdout",
     "output_type": "stream",
     "text": [
      "Test forward_chaining (22540, 2573, 4686, 1):  Pass\n",
      "Test forward_chaining (951, 340, 300, 1):  Pass\n"
     ]
    }
   ],
   "source": [
    "def test_forward_chaining():\n",
    "    for (start_stop, end_stop, via_stop, max_transfers), expected_output in test_inputs[\"forward_chaining\"]:\n",
    "        actual_output = forward_chaining(start_stop, end_stop, via_stop, max_transfers)\n",
    "        print(f\"Test forward_chaining ({start_stop}, {end_stop}, {via_stop}, {max_transfers}): \", \n",
    "              \"Pass\" if check_output(expected_output, actual_output) else f\"Fail (Expected: {expected_output}, Got: {actual_output})\")\n",
    "\n",
    "test_forward_chaining()"
   ]
  },
  {
   "cell_type": "code",
   "execution_count": 14,
   "metadata": {},
   "outputs": [],
   "source": [
    "# Forward chaining for optimal route planning\n",
    "def backward_chaining(start_stop_id: int,\n",
    "                     end_stop_id: int,\n",
    "                     stop_id_to_include: int,\n",
    "                     max_transfers: int = 1) -> list[tuple[int, int]]:\n",
    "    \"\"\"\n",
    "    Perform forward chaining to find optimal routes considering transfers.\n",
    "\n",
    "    Args:\n",
    "        start_stop_id (int): The starting stop ID.\n",
    "        end_stop_id (int): The ending stop ID.\n",
    "        stop_id_to_include (int): The stop ID where a transfer occurs.\n",
    "        max_transfers (int): The maximum number of transfers allowed.\n",
    "\n",
    "    Returns:\n",
    "        list: A list of unique paths (list of tuples) that satisfy the criteria, where each tuple contains:\n",
    "              - route_id (int): The ID of the route.\n",
    "              - stop_id (int): The ID of the stop.\n",
    "    \"\"\" \n",
    "\n",
    "    OptimalRoute(X, Y, Z) <= (DirectRoute(X, start_stop_id, Z) & DirectRoute(Y, Z, end_stop_id))\n",
    "\n",
    "    results = OptimalRoute(X, Y, stop_id_to_include)\n",
    "\n",
    "    paths = list()\n",
    "    paths.append((results[0][1], stop_id_to_include, results[0][0]))\n",
    "    for res in range(1, len(results)):\n",
    "        if results[res][0] == results[res - 1][1]:\n",
    "            continue\n",
    "        else:\n",
    "            paths.append((results[res][1], stop_id_to_include, results[res][0]))\n",
    "\n",
    "    return paths if paths else []\n",
    "    "
   ]
  },
  {
   "cell_type": "code",
   "execution_count": 15,
   "metadata": {},
   "outputs": [
    {
     "name": "stdout",
     "output_type": "stream",
     "text": [
      "Test backward_chaining (22540, 2573, 4686, 1):  Pass\n",
      "Test backward_chaining (951, 340, 300, 1):  Pass\n"
     ]
    }
   ],
   "source": [
    "def test_backward_chaining():\n",
    "    for (end_stop, start_stop, via_stop, max_transfers), expected_output in test_inputs[\"backward_chaining\"]:\n",
    "        actual_output = backward_chaining(start_stop, end_stop, via_stop, max_transfers)\n",
    "        print(f\"Test backward_chaining ({start_stop}, {end_stop}, {via_stop}, {max_transfers}): \", \n",
    "              \"Pass\" if check_output(expected_output, actual_output) else f\"Fail (Expected: {expected_output}, Got: {actual_output})\")\n",
    "\n",
    "test_backward_chaining()"
   ]
  },
  {
   "cell_type": "code",
   "execution_count": 16,
   "metadata": {},
   "outputs": [
    {
     "ename": "NameError",
     "evalue": "name 'Action' is not defined",
     "output_type": "error",
     "traceback": [
      "\u001b[1;31m---------------------------------------------------------------------------\u001b[0m",
      "\u001b[1;31mNameError\u001b[0m                                 Traceback (most recent call last)",
      "Cell \u001b[1;32mIn[16], line 30\u001b[0m\n\u001b[0;32m     26\u001b[0m         paths\u001b[38;5;241m.\u001b[39mappend((res[\u001b[38;5;241m0\u001b[39m], stop_id_to_include, res[\u001b[38;5;241m1\u001b[39m]))\n\u001b[0;32m     28\u001b[0m     \u001b[38;5;28;01mreturn\u001b[39;00m paths \u001b[38;5;28;01mif\u001b[39;00m paths \u001b[38;5;28;01melse\u001b[39;00m []\n\u001b[1;32m---> 30\u001b[0m \u001b[43mpddl_planning\u001b[49m\u001b[43m(\u001b[49m\u001b[38;5;241;43m951\u001b[39;49m\u001b[43m,\u001b[49m\u001b[43m \u001b[49m\u001b[38;5;241;43m340\u001b[39;49m\u001b[43m,\u001b[49m\u001b[43m \u001b[49m\u001b[38;5;241;43m300\u001b[39;49m\u001b[43m,\u001b[49m\u001b[43m \u001b[49m\u001b[38;5;241;43m1\u001b[39;49m\u001b[43m)\u001b[49m\n",
      "Cell \u001b[1;32mIn[16], line 18\u001b[0m, in \u001b[0;36mpddl_planning\u001b[1;34m(start_stop_id, end_stop_id, stop_id_to_include, max_transfers)\u001b[0m\n\u001b[0;32m      2\u001b[0m \u001b[38;5;28;01mdef\u001b[39;00m \u001b[38;5;21mpddl_planning\u001b[39m(start_stop_id, end_stop_id, stop_id_to_include, max_transfers):\n\u001b[0;32m      3\u001b[0m \u001b[38;5;250m    \u001b[39m\u001b[38;5;124;03m\"\"\"\u001b[39;00m\n\u001b[0;32m      4\u001b[0m \u001b[38;5;124;03m    Implement PDDL-style planning to find routes with optional transfers.\u001b[39;00m\n\u001b[0;32m      5\u001b[0m \n\u001b[1;32m   (...)\u001b[0m\n\u001b[0;32m     15\u001b[0m \u001b[38;5;124;03m              - stop_id (int): The ID of the stop.\u001b[39;00m\n\u001b[0;32m     16\u001b[0m \u001b[38;5;124;03m    \"\"\"\u001b[39;00m\n\u001b[1;32m---> 18\u001b[0m     \u001b[43mAction\u001b[49m(\u001b[38;5;124m'\u001b[39m\u001b[38;5;124mboard_route\u001b[39m\u001b[38;5;124m'\u001b[39m, R, X) \u001b[38;5;241m<\u001b[39m\u001b[38;5;241m=\u001b[39m RouteHasStop(R, X)\n\u001b[0;32m     19\u001b[0m     Action(\u001b[38;5;124m'\u001b[39m\u001b[38;5;124mtransfer_route\u001b[39m\u001b[38;5;124m'\u001b[39m, R1, R2, Z) \u001b[38;5;241m<\u001b[39m\u001b[38;5;241m=\u001b[39m DirectRoute(R1, start_stop_id, Z) \u001b[38;5;241m&\u001b[39m DirectRoute(R2, Z, end_stop_id)\n\u001b[0;32m     21\u001b[0m     \u001b[38;5;66;03m# Define the goal state\u001b[39;00m\n",
      "\u001b[1;31mNameError\u001b[0m: name 'Action' is not defined"
     ]
    }
   ],
   "source": [
    "# PDDL-style planning for route finding\n",
    "def pddl_planning(start_stop_id, end_stop_id, stop_id_to_include, max_transfers):\n",
    "    \"\"\"\n",
    "    Implement PDDL-style planning to find routes with optional transfers.\n",
    "\n",
    "    Args:\n",
    "        start_stop_id (int): The starting stop ID.\n",
    "        end_stop_id (int): The ending stop ID.\n",
    "        stop_id_to_include (int): The stop ID for a transfer.\n",
    "        max_transfers (int): The maximum number of transfers allowed.\n",
    "\n",
    "    Returns:\n",
    "        list: A list of unique paths (list of tuples) that satisfy the criteria, where each tuple contains:\n",
    "              - route_id (int): The ID of the route.\n",
    "              - stop_id (int): The ID of the stop.\n",
    "    \"\"\"\n",
    "\n",
    "    Action('board_route', R, X) <= RouteHasStop(R, X)\n",
    "    Action('transfer_route', R1, R2, Z) <= DirectRoute(R1, start_stop_id, Z) & DirectRoute(R2, Z, end_stop_id)\n",
    "\n",
    "    # Define the goal state\n",
    "    result = Action('board_route', X, start_stop_id) & Action('transfer_route', X, Y, stop_id_to_include) & Action('board_route', Y, end_stop_id)\n",
    "    \n",
    "    paths = list()\n",
    "    for res in result:\n",
    "        paths.append((res[0], stop_id_to_include, res[1]))\n",
    "\n",
    "    return paths if paths else []\n",
    "\n",
    "pddl_planning(951, 340, 300, 1)"
   ]
  },
  {
   "cell_type": "code",
   "execution_count": null,
   "metadata": {},
   "outputs": [],
   "source": [
    "def test_pddl_planning():\n",
    "    for (start_stop, end_stop, via_stop, max_transfers), expected_output in test_inputs[\"pddl_planning\"]:\n",
    "        actual_output = pddl_planning(start_stop, end_stop, via_stop, max_transfers)\n",
    "        print(f\"Test pddl_planning ({start_stop}, {end_stop}, {via_stop}, {max_transfers}): \", \n",
    "              \"Pass\" if check_output(expected_output, actual_output) else f\"Fail (Expected: {expected_output}, Got: {actual_output})\")\n",
    "\n",
    "test_pddl_planning()"
   ]
  },
  {
   "cell_type": "code",
   "execution_count": null,
   "metadata": {},
   "outputs": [],
   "source": [
    "from pprint import pprint\n",
    "\n",
    "# Function to filter fare data based on an initial fare limit\n",
    "def prune_data(merged_fare_df, initial_fare):\n",
    "    \"\"\"\n",
    "    Filter fare data based on an initial fare limit.\n",
    "\n",
    "    Args:\n",
    "        merged_fare_df (DataFrame): The merged fare DataFrame.\n",
    "        initial_fare (float): The maximum fare allowed.\n",
    "\n",
    "    Returns:\n",
    "        DataFrame: A filtered DataFrame containing only routes within the fare limit.\n",
    "    \"\"\"\n",
    "\n",
    "    return merged_fare_df[merged_fare_df['price'] <= initial_fare]\n",
    "\n",
    "\n",
    "\n",
    "# Pre-computation of Route Summary\n",
    "def compute_route_summary(pruned_df):\n",
    "    \"\"\"\n",
    "    Generate a summary of routes based on fare information.\n",
    "\n",
    "    Args:\n",
    "        pruned_df (DataFrame): The filtered DataFrame containing fare information.\n",
    "\n",
    "    Returns:\n",
    "        dict: A summary of routes with the following structure:\n",
    "              {\n",
    "                  route_id (int): {\n",
    "                      'min_price': float,          # The minimum fare for the route\n",
    "                      'stops': set                # A set of stop IDs for that route\n",
    "                  }\n",
    "              }\n",
    "    \"\"\"\n",
    "    pass  # Implementation here\n",
    "\n",
    "# BFS for optimized route planning\n",
    "def bfs_route_planner_optimized(start_stop_id: int,\n",
    "                                end_stop_id: int,\n",
    "                                initial_fare: int,\n",
    "                                route_summary: int,\n",
    "                                max_transfers: int = 3) -> list[tuple[int, int]]:\n",
    "    \"\"\"\n",
    "    Use Breadth-First Search (BFS) to find the optimal route while considering fare constraints.\n",
    "\n",
    "    Args:\n",
    "        start_stop_id (int): The starting stop ID.\n",
    "        end_stop_id (int): The ending stop ID.\n",
    "        initial_fare (float): The available fare for the trip.\n",
    "        route_summary (dict): A summary of routes with fare and stop information.\n",
    "        max_transfers (int): The maximum number of transfers allowed (default is 3).\n",
    "\n",
    "    Returns:\n",
    "        list: A list representing the optimal route with stops and routes taken, structured as:\n",
    "              [\n",
    "                  (route_id (int), stop_id (int)),  # Tuple for each stop taken in the route\n",
    "                  ...\n",
    "              ]\n",
    "    \"\"\"\n",
    "    pass  # Implementation here\n",
    "\n",
    "prune_data(merged_fare_df, 10)"
   ]
  }
 ],
 "metadata": {
  "kernelspec": {
   "display_name": ".venv",
   "language": "python",
   "name": "python3"
  },
  "language_info": {
   "codemirror_mode": {
    "name": "ipython",
    "version": 3
   },
   "file_extension": ".py",
   "mimetype": "text/x-python",
   "name": "python",
   "nbconvert_exporter": "python",
   "pygments_lexer": "ipython3",
   "version": "3.12.0"
  }
 },
 "nbformat": 4,
 "nbformat_minor": 2
}
